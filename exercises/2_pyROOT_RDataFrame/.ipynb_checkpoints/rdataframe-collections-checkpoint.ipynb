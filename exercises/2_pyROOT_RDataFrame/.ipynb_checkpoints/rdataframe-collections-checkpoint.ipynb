{
 "cells": [
  {
   "cell_type": "markdown",
   "id": "41ca9b9e",
   "metadata": {},
   "source": [
    "# Exercise: RDataFrame and collections"
   ]
  },
  {
   "cell_type": "markdown",
   "id": "c5657ad2",
   "metadata": {},
   "source": [
    "The same dataset used in the previous exercise (`TTree` \"dataset\" in file `../data/example_file.root`) contains two vector columns `vec1` and `vec2`.<br>\n",
    "The elements of `vec1` are distributed as a mixture of Gaussians, plus background noise.<br>\n",
    "To remove the background noise, select the elements of `vec1` for which the square of the corresponding elements in `vec2` is less than 0.1.\n",
    "\n",
    "Where are the peaks of this mixture of Gaussians?\n",
    "\n",
    "### Useful links\n",
    "\n",
    "- [RDataFrame: working with collections](https://root.cern/doc/master/classROOT_1_1RDataFrame.html#collections)\n",
    "- [RVec reference](https://root.cern/doc/master/classROOT_1_1VecOps_1_1RVec.html)"
   ]
  },
  {
   "cell_type": "code",
   "execution_count": 4,
   "id": "4dea17f9",
   "metadata": {},
   "outputs": [
    {
     "data": {
      "image/png": "[encoded data removed]",
      "text/plain": [
       "<IPython.core.display.Image object>"
      ]
     },
     "metadata": {},
     "output_type": "display_data"
    }
   ],
   "source": [
    "import ROOT\n",
    "\n",
    "# Load the file and TTree\n",
    "df = ROOT.RDataFrame(\"dataset\", \"../data/example_file.root\")\n",
    "\n",
    "# Use Define with VecOps in Python: this returns filtered vec1 based on vec2\n",
    "df_filtered = df.Define(\"vec1_cleaned\",\n",
    "    \"ROOT::VecOps::RVec<float> cleaned;\"\n",
    "    \"for (size_t i = 0; i < vec1.size(); ++i) {\"\n",
    "    \"  if (vec2[i]*vec2[i] < 0.1) cleaned.push_back(vec1[i]);\"\n",
    "    \"}\"\n",
    "    \"return cleaned;\"\n",
    ")\n",
    "\n",
    "# Plot histogram of the cleaned vector\n",
    "h = df_filtered.Histo1D((\"h\", \"Filtered vec1 (vec2^2 < 0.1)\", 100, -5, 5), \"vec1_cleaned\")\n",
    "\n",
    "# Draw\n",
    "canvas = ROOT.TCanvas(\"c\", \"canvas\", 800, 600)\n",
    "h.Draw()\n",
    "canvas.Draw()\n"
   ]
  },
  {
   "cell_type": "code",
   "execution_count": null,
   "id": "3f8b48dd-18d9-40e2-a371-87f12443f8a5",
   "metadata": {},
   "outputs": [],
   "source": []
  }
 ],
 "metadata": {
  "kernelspec": {
   "display_name": "Python 3 (ipykernel)",
   "language": "python",
   "name": "python3"
  },
  "language_info": {
   "codemirror_mode": {
    "name": "ipython",
    "version": 3
   },
   "file_extension": ".py",
   "mimetype": "text/x-python",
   "name": "python",
   "nbconvert_exporter": "python",
   "pygments_lexer": "ipython3",
   "version": "3.9.14"
  }
 },
 "nbformat": 4,
 "nbformat_minor": 5
}
